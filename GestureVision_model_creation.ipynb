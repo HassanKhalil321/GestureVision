version https://git-lfs.github.com/spec/v1
oid sha256:ede9a3c31058ce35f289ed4ca9152b721d57f25bf426b0b3134a4e097ee0efc4
size 13979
